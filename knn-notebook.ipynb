{
 "metadata": {
  "language_info": {
   "codemirror_mode": {
    "name": "ipython",
    "version": 3
   },
   "file_extension": ".py",
   "mimetype": "text/x-python",
   "name": "python",
   "nbconvert_exporter": "python",
   "pygments_lexer": "ipython3",
   "version": "3.8.3-final"
  },
  "orig_nbformat": 2,
  "kernelspec": {
   "name": "python_defaultSpec_1600902617721",
   "display_name": "Python 3.8.3 64-bit ('base': conda)"
  }
 },
 "nbformat": 4,
 "nbformat_minor": 2,
 "cells": [
  {
   "source": [
    "import numpy as np\n",
    "import pandas as pd"
   ],
   "cell_type": "code",
   "metadata": {},
   "execution_count": null,
   "outputs": []
  },
  {
   "source": [
    "### Importando a matriz de dados"
   ],
   "cell_type": "markdown",
   "metadata": {}
  },
  {
   "cell_type": "code",
   "execution_count": 222,
   "metadata": {
    "tags": []
   },
   "outputs": [
    {
     "output_type": "execute_result",
     "data": {
      "text/plain": "array([0.000387, 0.007009, 0.001467, 0.020309, 0.010393, 0.015306,\n       0.007171, 0.008899, 0.002046, 0.011831, 0.014894, 0.021614,\n       0.004801, 0.016355, 0.026831, 0.010712, 0.0425  , 0.018707,\n       0.001391, 0.008084, 0.021591, 0.01789 , 0.02077 , 0.003817,\n       0.027147, 0.004054, 0.001602, 0.001424, 0.015244, 0.010972,\n       0.03861 , 0.027461, 0.032305, 0.00542 , 0.022472, 0.005487,\n       0.019444, 0.034022, 0.010232, 0.005025, 0.01162 , 0.007681,\n       0.021583, 0.023277, 0.035769, 0.015914, 0.000685, 0.003998,\n       0.022951, 0.006014, 0.024703, 0.006245, 0.019391, 0.011429,\n       0.015205, 0.009919, 0.026436, 0.002346, 0.017825, 0.016896,\n       0.012486, 0.023721, 0.038285, 0.006829, 0.025373, 0.018445,\n       0.019388, 0.009295, 0.002647, 0.014725, 0.025994, 0.018824,\n       0.006459, 0.002309, 0.009977, 0.019344, 0.011905, 0.016588,\n       0.012646, 0.00067 , 0.010973, 0.026059, 0.009681, 0.016023,\n       0.007233, 0.008431, 0.013575, 0.003848, 0.004556, 0.001252,\n       0.010753, 0.007952, 0.016821, 0.002301, 0.000325, 0.017442,\n       0.000879, 0.006256, 0.001475, 0.014342, 0.000279, 0.002379,\n       0.001869, 0.008757, 0.001295, 0.000846, 0.047292, 0.000591,\n       0.007374, 0.010453, 0.019509, 0.00097 , 0.009961, 0.013733,\n       0.013453, 0.01964 , 0.000954, 0.030928, 0.059916, 0.020391,\n       0.002593, 0.010384, 0.039886, 0.001616, 0.014154, 0.009445,\n       0.025374, 0.005756, 0.014572, 0.002007, 0.00357 , 0.033126,\n       0.029515, 0.010135, 0.027184, 0.034139, 0.047791, 0.020122,\n       0.005573, 0.033846, 0.001838, 0.01771 , 0.023904])"
     },
     "metadata": {},
     "execution_count": 222
    }
   ],
   "source": [
    "matrix = np.loadtxt('resources/teste.txt', delimiter=' ')\n",
    "df = pd.DataFrame(matrix,index=matrix[:,-1].astype(int))\n",
    "array = df[1].to_numpy()\n",
    "array = np.ma.masked_equal(array,0)\n",
    "array = array.compressed()\n",
    "\n",
    "array\n"
   ]
  },
  {
   "cell_type": "code",
   "execution_count": null,
   "metadata": {
    "tags": []
   },
   "outputs": [],
   "source": [
    "from scipy.spatial import distance\n",
    "\n",
    "def f(s, range=(0,1)):\n",
    "    return ((s - s.min())/(s.max() - s.min())*(\n",
    "        (range[1] - range[0]) + range[0]\n",
    "    ))\n",
    "\n",
    "norm_df = df.apply(f , axis=1).copy()\n",
    "\n",
    "norm_df.iloc[0].values"
   ]
  },
  {
   "cell_type": "code",
   "execution_count": null,
   "metadata": {},
   "outputs": [],
   "source": [
    "from scipy import stats\n",
    "\n",
    "a = np.array([73600,54000,16000])\n",
    "\n",
    "stats.zscore(a)\n",
    "\n",
    "zscore_df = df.apply(stats.zscore , axis=1).copy()\n",
    "\n",
    "zscore_df"
   ]
  },
  {
   "cell_type": "code",
   "execution_count": null,
   "metadata": {},
   "outputs": [],
   "source": [
    "from scipy.spatial import distance\n",
    "\n",
    "distance.euclidean(norm_df.iloc[0].values,norm_df.iloc[1].values)\n",
    "\n",
    "distance.cityblock([1,2],[0,3])"
   ]
  },
  {
   "cell_type": "code",
   "execution_count": null,
   "metadata": {},
   "outputs": [],
   "source": [
    "a = [73.600,12.000,98.000]\n",
    "\n",
    "arr = np.array(a)\n",
    "\n",
    "f(arr)"
   ]
  },
  {
   "cell_type": "code",
   "execution_count": null,
   "metadata": {
    "tags": []
   },
   "outputs": [],
   "source": [
    "def min_max_cru(attribute_list, value):\n",
    "    return (value - min(attribute_list))/(max(attribute_list) - min(attribute_list))\n",
    "\n",
    "min_max(df.iloc[0].values, df.iloc[2].values[12])\n",
    "    \n"
   ]
  },
  {
   "cell_type": "code",
   "execution_count": null,
   "metadata": {
    "tags": []
   },
   "outputs": [],
   "source": [
    "a = [1,2,3,4,5,6,7,8,9,0]\n",
    "\n",
    "a = np.array(a)\n",
    "\n",
    "\n",
    "matrix = np.loadtxt('resources/teste.txt', delimiter=' ')\n",
    "df = pd.DataFrame(matrix,index=matrix[:,-1].astype(int))\n",
    "\n",
    "\n",
    "df.drop(df.columns[len(df.columns)-1], axis=1, inplace=True)\n",
    "\n",
    "\n",
    "# df.index.get_loc(df[0][1])\n",
    "\n",
    "\n",
    "# for index, row in df.iterrows():\n",
    "#     print(index)"
   ]
  },
  {
   "cell_type": "code",
   "execution_count": 220,
   "metadata": {
    "tags": []
   },
   "outputs": [
    {
     "output_type": "execute_result",
     "data": {
      "text/plain": "[0, 0, 0]"
     },
     "metadata": {},
     "execution_count": 220
    }
   ],
   "source": [
    "    from scipy.spatial import distance\n",
    "    from statistics import mode \n",
    "\n",
    "    def min_max(a):\n",
    "        return (a - a.min())/(a.max() - a.min())\n",
    "    \n",
    "    training_matrix = np.loadtxt('resources/treinamento.txt', delimiter=' ')\n",
    "    test_matrix = np.loadtxt('resources/teste.txt', delimiter=' ')\n",
    "\n",
    "    training_df = pd.DataFrame(training_matrix,index=training_matrix[:,-1].astype(int))\n",
    "    training_df.drop(training_df.columns[len(training_df.columns)-1], axis=1, inplace=True)\n",
    "    \n",
    "    test_df = pd.DataFrame(test_matrix,index=test_matrix[:,-1].astype(int))\n",
    "    test_df.drop(test_df.columns[len(test_df.columns)-1], axis=1, inplace=True)\n",
    "\n",
    "    \n",
    "    training_norm_df = training_df.apply(min_max , axis=1).copy()\n",
    "    \n",
    "    test_norm_df = test_df.apply(min_max , axis=1).copy()\n",
    "\n",
    "    objeto = test_norm_df.iloc[0].values\n",
    "\n",
    "    distances = []\n",
    "\n",
    "    minvalues = [[float('inf'),None] for _ in range(3)]\n",
    "\n",
    "    for _class, row in training_norm_df.iterrows():\n",
    "\n",
    "        distancia = distance.euclidean(objeto,row.values)\n",
    "\n",
    "        minvalues.sort(key=lambda dist: dist[0], reverse=True)\n",
    "        for value in minvalues:\n",
    "            if distancia < value[0]:\n",
    "                value[0] = distancia\n",
    "                value[1] = _class\n",
    "                break\n",
    "            \n",
    "\n",
    "    minvalues = [item[1] for item in minvalues]\n",
    "\n",
    "    minvalues\n",
    "\n",
    "\n",
    "    "
   ]
  },
  {
   "cell_type": "code",
   "execution_count": 202,
   "metadata": {},
   "outputs": [
    {
     "output_type": "execute_result",
     "data": {
      "text/plain": "[[inf, None], [inf, None], [inf, None]]"
     },
     "metadata": {},
     "execution_count": 202
    }
   ],
   "source": [
    "minvalues = [[float('inf'),None] for _ in range(3)]\n",
    "minvalues"
   ]
  }
 ]
}