{
 "metadata": {
  "language_info": {
   "codemirror_mode": {
    "name": "ipython",
    "version": 3
   },
   "file_extension": ".py",
   "mimetype": "text/x-python",
   "name": "python",
   "nbconvert_exporter": "python",
   "pygments_lexer": "ipython3",
   "version": "3.8.3-final"
  },
  "orig_nbformat": 2,
  "kernelspec": {
   "name": "Python 3.8.3 64-bit ('base': conda)",
   "display_name": "Python 3.8.3 64-bit ('base': conda)",
   "metadata": {
    "interpreter": {
     "hash": "666beb6dbc4deea3fa90244ba3b36ea850ea92c8d53618380dc7862fb5f41276"
    }
   }
  }
 },
 "nbformat": 4,
 "nbformat_minor": 2,
 "cells": [
  {
   "source": [
    "import numpy as np\n",
    "import pandas as pd"
   ],
   "cell_type": "code",
   "metadata": {},
   "execution_count": 3,
   "outputs": []
  },
  {
   "source": [
    "### Importando a matriz de dados"
   ],
   "cell_type": "markdown",
   "metadata": {}
  },
  {
   "cell_type": "code",
   "execution_count": 4,
   "metadata": {
    "tags": []
   },
   "outputs": [
    {
     "output_type": "execute_result",
     "data": {
      "text/plain": "array([0.000387, 0.007009, 0.001467, 0.020309, 0.010393, 0.015306,\n       0.007171, 0.008899, 0.002046, 0.011831, 0.014894, 0.021614,\n       0.004801, 0.016355, 0.026831, 0.010712, 0.0425  , 0.018707,\n       0.001391, 0.008084, 0.021591, 0.01789 , 0.02077 , 0.003817,\n       0.027147, 0.004054, 0.001602, 0.001424, 0.015244, 0.010972,\n       0.03861 , 0.027461, 0.032305, 0.00542 , 0.022472, 0.005487,\n       0.019444, 0.034022, 0.010232, 0.005025, 0.01162 , 0.007681,\n       0.021583, 0.023277, 0.035769, 0.015914, 0.000685, 0.003998,\n       0.022951, 0.006014, 0.024703, 0.006245, 0.019391, 0.011429,\n       0.015205, 0.009919, 0.026436, 0.002346, 0.017825, 0.016896,\n       0.012486, 0.023721, 0.038285, 0.006829, 0.025373, 0.018445,\n       0.019388, 0.009295, 0.002647, 0.014725, 0.025994, 0.018824,\n       0.006459, 0.002309, 0.009977, 0.019344, 0.011905, 0.016588,\n       0.012646, 0.00067 , 0.010973, 0.026059, 0.009681, 0.016023,\n       0.007233, 0.008431, 0.013575, 0.003848, 0.004556, 0.001252,\n       0.010753, 0.007952, 0.016821, 0.002301, 0.000325, 0.017442,\n       0.000879, 0.006256, 0.001475, 0.014342, 0.000279, 0.002379,\n       0.001869, 0.008757, 0.001295, 0.000846, 0.047292, 0.000591,\n       0.007374, 0.010453, 0.019509, 0.00097 , 0.009961, 0.013733,\n       0.013453, 0.01964 , 0.000954, 0.030928, 0.059916, 0.020391,\n       0.002593, 0.010384, 0.039886, 0.001616, 0.014154, 0.009445,\n       0.025374, 0.005756, 0.014572, 0.002007, 0.00357 , 0.033126,\n       0.029515, 0.010135, 0.027184, 0.034139, 0.047791, 0.020122,\n       0.005573, 0.033846, 0.001838, 0.01771 , 0.023904])"
     },
     "metadata": {},
     "execution_count": 4
    }
   ],
   "source": [
    "matrix = np.loadtxt('resources/teste.txt', delimiter=' ')\n",
    "df = pd.DataFrame(matrix,index=matrix[:,-1].astype(int))\n",
    "array = df[1].to_numpy()\n",
    "array = np.ma.masked_equal(array,0)\n",
    "array = array.compressed()\n",
    "\n",
    "array\n"
   ]
  },
  {
   "cell_type": "code",
   "execution_count": 5,
   "metadata": {
    "tags": []
   },
   "outputs": [
    {
     "output_type": "execute_result",
     "data": {
      "text/plain": "array([0.        , 0.        , 0.        , 0.        , 0.        ,\n       0.        , 0.        , 0.        , 0.        , 0.        ,\n       0.        , 0.        , 1.        , 0.2366968 , 0.09468008,\n       0.09468008, 0.        , 0.        , 0.        , 0.        ,\n       0.        , 0.22248354, 0.        , 0.        , 0.        ,\n       0.        , 0.        , 0.        , 0.        , 0.        ,\n       0.        , 0.35211392, 0.        , 0.        , 0.        ,\n       0.        , 0.        , 0.28403684, 0.28403684, 0.09468008,\n       0.        , 0.        , 0.        , 0.70304852, 0.        ,\n       0.        , 0.        , 0.        , 0.08450584, 0.        ,\n       0.        , 0.        , 0.        , 0.        , 0.        ,\n       0.        , 0.43661977, 0.09468008, 0.28403684, 0.        ,\n       0.        , 0.        , 0.        , 0.        , 0.        ,\n       0.52506237, 0.        , 0.        , 0.        , 0.        ,\n       0.25352093, 0.        , 0.        , 0.        , 0.        ,\n       0.        , 0.01408374, 0.        , 0.        , 0.        ,\n       0.        , 0.        , 0.        , 0.33137688, 0.04734004,\n       0.        , 0.        , 0.75644539, 0.        , 0.        ,\n       0.        , 0.        , 0.15493135, 0.        , 0.        ,\n       0.02816748, 0.04225463, 0.        , 0.04225463, 0.08450584,\n       0.08450584, 0.18936016, 0.09468008, 0.04734004, 0.        ,\n       0.        , 0.09468008, 0.28403684, 0.18936016, 0.68524957,\n       0.        , 0.        , 0.        , 0.        , 0.11267673,\n       0.        , 0.        , 0.        , 0.        , 0.        ,\n       0.71831159, 0.        , 0.        , 0.        , 0.        ,\n       0.        , 0.        , 0.09468008, 0.2366968 , 0.33137688,\n       0.        , 0.5161629 , 0.        ])"
     },
     "metadata": {},
     "execution_count": 5
    }
   ],
   "source": [
    "from scipy.spatial import distance\n",
    "\n",
    "def f(s, range=(0,1)):\n",
    "    return ((s - s.min())/(s.max() - s.min())*(\n",
    "        (range[1] - range[0]) + range[0]\n",
    "    ))\n",
    "\n",
    "norm_df = df.apply(f , axis=1).copy()\n",
    "\n",
    "norm_df.iloc[0].values"
   ]
  },
  {
   "cell_type": "code",
   "execution_count": 19,
   "metadata": {
    "tags": []
   },
   "outputs": [
    {
     "output_type": "stream",
     "name": "stdout",
     "text": "[ 1.07618215  0.25649937 -1.33268153]\n"
    },
    {
     "output_type": "execute_result",
     "data": {
      "text/plain": "         0         1         2         3         4         5         6    \\\n0  -0.436642 -0.436642 -0.436642 -0.436642 -0.436642 -0.436642 -0.436642   \n0  -0.469746 -0.469746 -0.469746 -0.469746 -0.469746 -0.469746 -0.469746   \n0  -0.446475 -0.446475 -0.446475 -0.446475 -0.446475 -0.446475 -0.446475   \n0  -0.431963 -0.431963 -0.431963 -0.431963 -0.431963 -0.431963 -0.431963   \n0  -0.449777 -0.449777 -0.449777 -0.449777 -0.449777 -0.394842 -0.449777   \n..       ...       ...       ...       ...       ...       ...       ...   \n9  -0.115690 -0.085040 -0.115690 -0.102919 -0.100365 -0.115690 -0.108028   \n9  -0.115646 -0.115646 -0.115646 -0.115646 -0.093244 -0.115646 -0.115646   \n9  -0.115681 -0.115681 -0.115681 -0.115681 -0.085286 -0.115681 -0.115681   \n9  -0.115680 -0.115680 -0.115680 -0.115680 -0.075070 -0.115680 -0.115680   \n9  -0.115685 -0.115685 -0.115685 -0.115685 -0.072772 -0.115685 -0.115685   \n\n         7         8         9    ...       123       124       125       126  \\\n0  -0.436642 -0.436642 -0.436642  ... -0.436642 -0.436642 -0.436642 -0.436642   \n0  -0.469746 -0.469746 -0.469746  ... -0.469746 -0.469746 -0.469746 -0.469746   \n0  -0.446475 -0.446475 -0.446475  ... -0.446475 -0.446475 -0.446475 -0.446475   \n0  -0.431963 -0.431963 -0.431963  ... -0.431963 -0.431963 -0.431963 -0.173166   \n0  -0.449777 -0.394842 -0.449777  ... -0.449777 -0.449777 -0.449777 -0.449777   \n..       ...       ...       ...  ...       ...       ...       ...       ...   \n9  -0.115690 -0.115690 -0.115690  ... -0.115690 -0.115690 -0.115690 -0.115690   \n9  -0.115646 -0.114047 -0.115646  ... -0.115646 -0.115646 -0.115646 -0.115646   \n9  -0.115681 -0.115681 -0.115681  ... -0.106184 -0.115681 -0.115681 -0.115681   \n9  -0.115680 -0.115680 -0.115680  ... -0.086092 -0.095954 -0.115680 -0.115680   \n9  -0.115685 -0.115685 -0.115685  ... -0.086764 -0.106044 -0.115685 -0.115685   \n\n         127       128       129       130       131        132  \n0   0.101079  0.907641  1.445362 -0.436642  2.494825  -0.436642  \n0   0.713511  0.950171  0.713511 -0.233086  2.626491  -0.469746  \n0   0.103355  0.928081  1.752827 -0.446475  3.036787  -0.446475  \n0   0.344411  0.861988  1.120766 -0.173166  3.379282  -0.431963  \n0   0.488585  0.957755  0.957755 -0.449777  2.735915  -0.449777  \n..       ...       ...       ...       ...       ...        ...  \n9  -0.115690 -0.087966 -0.115690 -0.115690 -0.093234  11.424417  \n9  -0.115646 -0.104876 -0.115646 -0.115646 -0.113138  11.420063  \n9  -0.077692 -0.049200 -0.115681 -0.115681 -0.020226  11.423514  \n9  -0.066367 -0.026917 -0.105818 -0.115680  0.046249  11.423371  \n9  -0.048201 -0.028921 -0.115685 -0.115685  0.040731  11.423856  \n\n[1000 rows x 133 columns]",
      "text/html": "<div>\n<style scoped>\n    .dataframe tbody tr th:only-of-type {\n        vertical-align: middle;\n    }\n\n    .dataframe tbody tr th {\n        vertical-align: top;\n    }\n\n    .dataframe thead th {\n        text-align: right;\n    }\n</style>\n<table border=\"1\" class=\"dataframe\">\n  <thead>\n    <tr style=\"text-align: right;\">\n      <th></th>\n      <th>0</th>\n      <th>1</th>\n      <th>2</th>\n      <th>3</th>\n      <th>4</th>\n      <th>5</th>\n      <th>6</th>\n      <th>7</th>\n      <th>8</th>\n      <th>9</th>\n      <th>...</th>\n      <th>123</th>\n      <th>124</th>\n      <th>125</th>\n      <th>126</th>\n      <th>127</th>\n      <th>128</th>\n      <th>129</th>\n      <th>130</th>\n      <th>131</th>\n      <th>132</th>\n    </tr>\n  </thead>\n  <tbody>\n    <tr>\n      <th>0</th>\n      <td>-0.436642</td>\n      <td>-0.436642</td>\n      <td>-0.436642</td>\n      <td>-0.436642</td>\n      <td>-0.436642</td>\n      <td>-0.436642</td>\n      <td>-0.436642</td>\n      <td>-0.436642</td>\n      <td>-0.436642</td>\n      <td>-0.436642</td>\n      <td>...</td>\n      <td>-0.436642</td>\n      <td>-0.436642</td>\n      <td>-0.436642</td>\n      <td>-0.436642</td>\n      <td>0.101079</td>\n      <td>0.907641</td>\n      <td>1.445362</td>\n      <td>-0.436642</td>\n      <td>2.494825</td>\n      <td>-0.436642</td>\n    </tr>\n    <tr>\n      <th>0</th>\n      <td>-0.469746</td>\n      <td>-0.469746</td>\n      <td>-0.469746</td>\n      <td>-0.469746</td>\n      <td>-0.469746</td>\n      <td>-0.469746</td>\n      <td>-0.469746</td>\n      <td>-0.469746</td>\n      <td>-0.469746</td>\n      <td>-0.469746</td>\n      <td>...</td>\n      <td>-0.469746</td>\n      <td>-0.469746</td>\n      <td>-0.469746</td>\n      <td>-0.469746</td>\n      <td>0.713511</td>\n      <td>0.950171</td>\n      <td>0.713511</td>\n      <td>-0.233086</td>\n      <td>2.626491</td>\n      <td>-0.469746</td>\n    </tr>\n    <tr>\n      <th>0</th>\n      <td>-0.446475</td>\n      <td>-0.446475</td>\n      <td>-0.446475</td>\n      <td>-0.446475</td>\n      <td>-0.446475</td>\n      <td>-0.446475</td>\n      <td>-0.446475</td>\n      <td>-0.446475</td>\n      <td>-0.446475</td>\n      <td>-0.446475</td>\n      <td>...</td>\n      <td>-0.446475</td>\n      <td>-0.446475</td>\n      <td>-0.446475</td>\n      <td>-0.446475</td>\n      <td>0.103355</td>\n      <td>0.928081</td>\n      <td>1.752827</td>\n      <td>-0.446475</td>\n      <td>3.036787</td>\n      <td>-0.446475</td>\n    </tr>\n    <tr>\n      <th>0</th>\n      <td>-0.431963</td>\n      <td>-0.431963</td>\n      <td>-0.431963</td>\n      <td>-0.431963</td>\n      <td>-0.431963</td>\n      <td>-0.431963</td>\n      <td>-0.431963</td>\n      <td>-0.431963</td>\n      <td>-0.431963</td>\n      <td>-0.431963</td>\n      <td>...</td>\n      <td>-0.431963</td>\n      <td>-0.431963</td>\n      <td>-0.431963</td>\n      <td>-0.173166</td>\n      <td>0.344411</td>\n      <td>0.861988</td>\n      <td>1.120766</td>\n      <td>-0.173166</td>\n      <td>3.379282</td>\n      <td>-0.431963</td>\n    </tr>\n    <tr>\n      <th>0</th>\n      <td>-0.449777</td>\n      <td>-0.449777</td>\n      <td>-0.449777</td>\n      <td>-0.449777</td>\n      <td>-0.449777</td>\n      <td>-0.394842</td>\n      <td>-0.449777</td>\n      <td>-0.449777</td>\n      <td>-0.394842</td>\n      <td>-0.449777</td>\n      <td>...</td>\n      <td>-0.449777</td>\n      <td>-0.449777</td>\n      <td>-0.449777</td>\n      <td>-0.449777</td>\n      <td>0.488585</td>\n      <td>0.957755</td>\n      <td>0.957755</td>\n      <td>-0.449777</td>\n      <td>2.735915</td>\n      <td>-0.449777</td>\n    </tr>\n    <tr>\n      <th>...</th>\n      <td>...</td>\n      <td>...</td>\n      <td>...</td>\n      <td>...</td>\n      <td>...</td>\n      <td>...</td>\n      <td>...</td>\n      <td>...</td>\n      <td>...</td>\n      <td>...</td>\n      <td>...</td>\n      <td>...</td>\n      <td>...</td>\n      <td>...</td>\n      <td>...</td>\n      <td>...</td>\n      <td>...</td>\n      <td>...</td>\n      <td>...</td>\n      <td>...</td>\n      <td>...</td>\n    </tr>\n    <tr>\n      <th>9</th>\n      <td>-0.115690</td>\n      <td>-0.085040</td>\n      <td>-0.115690</td>\n      <td>-0.102919</td>\n      <td>-0.100365</td>\n      <td>-0.115690</td>\n      <td>-0.108028</td>\n      <td>-0.115690</td>\n      <td>-0.115690</td>\n      <td>-0.115690</td>\n      <td>...</td>\n      <td>-0.115690</td>\n      <td>-0.115690</td>\n      <td>-0.115690</td>\n      <td>-0.115690</td>\n      <td>-0.115690</td>\n      <td>-0.087966</td>\n      <td>-0.115690</td>\n      <td>-0.115690</td>\n      <td>-0.093234</td>\n      <td>11.424417</td>\n    </tr>\n    <tr>\n      <th>9</th>\n      <td>-0.115646</td>\n      <td>-0.115646</td>\n      <td>-0.115646</td>\n      <td>-0.115646</td>\n      <td>-0.093244</td>\n      <td>-0.115646</td>\n      <td>-0.115646</td>\n      <td>-0.115646</td>\n      <td>-0.114047</td>\n      <td>-0.115646</td>\n      <td>...</td>\n      <td>-0.115646</td>\n      <td>-0.115646</td>\n      <td>-0.115646</td>\n      <td>-0.115646</td>\n      <td>-0.115646</td>\n      <td>-0.104876</td>\n      <td>-0.115646</td>\n      <td>-0.115646</td>\n      <td>-0.113138</td>\n      <td>11.420063</td>\n    </tr>\n    <tr>\n      <th>9</th>\n      <td>-0.115681</td>\n      <td>-0.115681</td>\n      <td>-0.115681</td>\n      <td>-0.115681</td>\n      <td>-0.085286</td>\n      <td>-0.115681</td>\n      <td>-0.115681</td>\n      <td>-0.115681</td>\n      <td>-0.115681</td>\n      <td>-0.115681</td>\n      <td>...</td>\n      <td>-0.106184</td>\n      <td>-0.115681</td>\n      <td>-0.115681</td>\n      <td>-0.115681</td>\n      <td>-0.077692</td>\n      <td>-0.049200</td>\n      <td>-0.115681</td>\n      <td>-0.115681</td>\n      <td>-0.020226</td>\n      <td>11.423514</td>\n    </tr>\n    <tr>\n      <th>9</th>\n      <td>-0.115680</td>\n      <td>-0.115680</td>\n      <td>-0.115680</td>\n      <td>-0.115680</td>\n      <td>-0.075070</td>\n      <td>-0.115680</td>\n      <td>-0.115680</td>\n      <td>-0.115680</td>\n      <td>-0.115680</td>\n      <td>-0.115680</td>\n      <td>...</td>\n      <td>-0.086092</td>\n      <td>-0.095954</td>\n      <td>-0.115680</td>\n      <td>-0.115680</td>\n      <td>-0.066367</td>\n      <td>-0.026917</td>\n      <td>-0.105818</td>\n      <td>-0.115680</td>\n      <td>0.046249</td>\n      <td>11.423371</td>\n    </tr>\n    <tr>\n      <th>9</th>\n      <td>-0.115685</td>\n      <td>-0.115685</td>\n      <td>-0.115685</td>\n      <td>-0.115685</td>\n      <td>-0.072772</td>\n      <td>-0.115685</td>\n      <td>-0.115685</td>\n      <td>-0.115685</td>\n      <td>-0.115685</td>\n      <td>-0.115685</td>\n      <td>...</td>\n      <td>-0.086764</td>\n      <td>-0.106044</td>\n      <td>-0.115685</td>\n      <td>-0.115685</td>\n      <td>-0.048201</td>\n      <td>-0.028921</td>\n      <td>-0.115685</td>\n      <td>-0.115685</td>\n      <td>0.040731</td>\n      <td>11.423856</td>\n    </tr>\n  </tbody>\n</table>\n<p>1000 rows × 133 columns</p>\n</div>"
     },
     "metadata": {},
     "execution_count": 19
    }
   ],
   "source": [
    "from scipy import stats\n",
    "\n",
    "def z_score(a):\n",
    "    return (a - a.mean())/a.std()\n",
    "\n",
    "a = np.array([73600,54000,16000])\n",
    "\n",
    "print(stats.zscore(a))\n",
    "\n",
    "df_zscore = df.apply(z_score , axis=1).copy()\n",
    "\n",
    "df_zscore\n",
    "\n"
   ]
  },
  {
   "cell_type": "code",
   "execution_count": null,
   "metadata": {},
   "outputs": [],
   "source": [
    "from scipy.spatial import distance\n",
    "\n",
    "distance.euclidean(norm_df.iloc[0].values,norm_df.iloc[1].values)\n",
    "\n",
    "distance.cityblock([1,2],[0,3])"
   ]
  },
  {
   "cell_type": "code",
   "execution_count": null,
   "metadata": {},
   "outputs": [],
   "source": [
    "a = [73.600,12.000,98.000]\n",
    "\n",
    "arr = np.array(a)\n",
    "\n",
    "f(arr)"
   ]
  },
  {
   "cell_type": "code",
   "execution_count": null,
   "metadata": {
    "tags": []
   },
   "outputs": [],
   "source": [
    "def min_max_cru(attribute_list, value):\n",
    "    return (value - min(attribute_list))/(max(attribute_list) - min(attribute_list))\n",
    "\n",
    "min_max(df.iloc[0].values, df.iloc[2].values[12])\n",
    "    \n"
   ]
  },
  {
   "cell_type": "code",
   "execution_count": null,
   "metadata": {
    "tags": []
   },
   "outputs": [],
   "source": [
    "a = [1,2,3,4,5,6,7,8,9,0]\n",
    "\n",
    "a = np.array(a)\n",
    "\n",
    "\n",
    "matrix = np.loadtxt('resources/teste.txt', delimiter=' ')\n",
    "df = pd.DataFrame(matrix,index=matrix[:,-1].astype(int))\n",
    "\n",
    "\n",
    "df.drop(df.columns[len(df.columns)-1], axis=1, inplace=True)\n",
    "\n",
    "\n",
    "# df.index.get_loc(df[0][1])\n",
    "\n",
    "\n",
    "# for index, row in df.iterrows():\n",
    "#     print(index)"
   ]
  },
  {
   "cell_type": "code",
   "execution_count": null,
   "metadata": {
    "tags": []
   },
   "outputs": [],
   "source": [
    "    from scipy.spatial import distance\n",
    "    from statistics import mode \n",
    "\n",
    "    def min_max(a):\n",
    "        return (a - a.min())/(a.max() - a.min())\n",
    "    \n",
    "    training_matrix = np.loadtxt('resources/treinamento.txt', delimiter=' ')\n",
    "    test_matrix = np.loadtxt('resources/teste.txt', delimiter=' ')\n",
    "\n",
    "    training_df = pd.DataFrame(training_matrix,index=training_matrix[:,-1].astype(int))\n",
    "    training_df.drop(training_df.columns[len(training_df.columns)-1], axis=1, inplace=True)\n",
    "    \n",
    "    test_df = pd.DataFrame(test_matrix,index=test_matrix[:,-1].astype(int))\n",
    "    test_df.drop(test_df.columns[len(test_df.columns)-1], axis=1, inplace=True)\n",
    "\n",
    "    \n",
    "    training_norm_df = training_df.apply(min_max , axis=1).copy()\n",
    "    \n",
    "    test_norm_df = test_df.apply(min_max , axis=1).copy()\n",
    "\n",
    "    objeto = test_norm_df.iloc[0].values\n",
    "\n",
    "    distances = []\n",
    "\n",
    "    minvalues = [[float('inf'),None] for _ in range(3)]\n",
    "\n",
    "    for _class, row in training_norm_df.iterrows():\n",
    "\n",
    "        distancia = distance.euclidean(objeto,row.values)\n",
    "\n",
    "        minvalues.sort(key=lambda dist: dist[0], reverse=True)\n",
    "        for value in minvalues:\n",
    "            if distancia < value[0]:\n",
    "                value[0] = distancia\n",
    "                value[1] = _class\n",
    "                break\n",
    "            \n",
    "\n",
    "    minvalues = [item[1] for item in minvalues]\n",
    "\n",
    "    minvalues\n",
    "\n",
    "\n",
    "    "
   ]
  },
  {
   "cell_type": "code",
   "execution_count": null,
   "metadata": {},
   "outputs": [],
   "source": [
    "minvalues = [[float('inf'),None] for _ in range(3)]\n",
    "minvalues"
   ]
  }
 ]
}